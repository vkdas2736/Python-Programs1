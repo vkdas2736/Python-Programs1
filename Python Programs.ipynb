{
 "cells": [
  {
   "cell_type": "code",
   "execution_count": null,
   "id": "51ddbb95",
   "metadata": {},
   "outputs": [],
   "source": [
    "num=int(input(\"Enter the num Value :\"))\n",
    "product=1\n",
    "for x in range(1,num+1,1):\n",
    "    print(x,end=\"\\t\")\n",
    "    product=product*x\n",
    "print(\"\\nProduct of numberrs :\",product)\n",
    "print(\"\\n Thank you\")"
   ]
  },
  {
   "cell_type": "code",
   "execution_count": null,
   "id": "d4b84c90",
   "metadata": {},
   "outputs": [],
   "source": [
    "num=int(input(\"Enter the num Value :\"))\n",
    "sum=0\n",
    "for x in range(num+1):\n",
    "    print(x,end=\"\\t\")\n",
    "    if (x%2==0):\n",
    "        sum=sum+x\n",
    "print(\"\\nSum of All Numbers:\",sum)\n",
    "print(\"\\n Thank you\")\n"
   ]
  },
  {
   "cell_type": "code",
   "execution_count": null,
   "id": "67c749f0",
   "metadata": {},
   "outputs": [],
   "source": [
    "s1,s2,s3=int(int(int((input(\"Enter the marks:\")))))\n",
    "totalMarks=s1+s2+s3\n",
    "Avg=totalMarks/3\n",
    "print(\"totalMarks are:\",totalMarks)\n",
    "print(\"avg marks are:\",Avg)\n"
   ]
  },
  {
   "cell_type": "code",
   "execution_count": null,
   "id": "13ef7f6a",
   "metadata": {},
   "outputs": [],
   "source": [
    "a=int(input(\"Enter the cost of biryani:\"))\n",
    "b=int(input(\"Enter the cost of manchuriya:\"))\n",
    "q=int(input(\"Enter the no of biryani plates:\"))\n",
    "r=int(input(\"Enter no of manchuriya plates:\"))\n",
    "totalCost=(a*q)+(b*r)\n",
    "freinds=int(input(\"no of friends went:\"))\n",
    "sharedAmnt=totalCost/freinds\n",
    "print(\"amount shared\",sharedAmnt)\n"
   ]
  },
  {
   "cell_type": "code",
   "execution_count": null,
   "id": "3fd5bfd0",
   "metadata": {},
   "outputs": [],
   "source": [
    "print(\"\\tWelcome to NAA BANK\")\n",
    "print(\"1.Education\")\n",
    "print(\"2.Home\")\n",
    "print(\"3.Gold\")\n",
    "print(\"4.personal\")\n",
    "ch=int(input(\"Enter your choice :\"))\n",
    "if ch==1:\n",
    "    r=6.8\n",
    "    print(\"Rate of Interest for Education Loan is: \",r,\"%\")\n",
    "    pass\n",
    "elif ch==2:\n",
    "    r=9.4\n",
    "    print(\"Rate of Interest for Home Loan is: \", r, \"%\")\n",
    "    pass\n",
    "elif ch==3:\n",
    "    r=12.6\n",
    "    print(\"Rate of Interest for Gold Loan is: \", r, \"%\")\n",
    "    pass\n",
    "else:\n",
    "    r=14.2\n",
    "    print(\"Rate of Interest for Personal Loan is: \", r, \"%\")\n",
    "amt=eval(input(\"Enter Loan amount:\"))\n",
    "t=int(input(\"Enter Time Period :\"))\n",
    "iAmnt=amt*t*r/100\n",
    "finalAmt=amt+iAmnt\n",
    "print(\"Interest Amount is :\",iAmnt)\n",
    "print(\"Final Amount is:\",finalAmt)"
   ]
  },
  {
   "cell_type": "code",
   "execution_count": null,
   "id": "d49cdaa4",
   "metadata": {},
   "outputs": [],
   "source": [
    "gender=input(\"ENter your gender\")\n",
    "# f or F are available\n",
    "if gender=='f' or gender=='F':\n",
    "    print(\" eligible for book a seat :\")\n",
    "else:\n",
    "    print(\" not eligible for a book a seat:\")\n",
    "print(\" Thank you\")"
   ]
  },
  {
   "cell_type": "code",
   "execution_count": null,
   "id": "17d8f06f",
   "metadata": {},
   "outputs": [],
   "source": [
    "a=int(input(\"Enter a number :\"))\n",
    "if(a%2==0):\n",
    "    print(\"\\tGiven number is even number\")\n",
    "else:\n",
    "    print(\"\\tGiven number is a odd number \")\n",
    "print(\"\\tThank you \")"
   ]
  },
  {
   "cell_type": "code",
   "execution_count": null,
   "id": "eb349c40",
   "metadata": {},
   "outputs": [],
   "source": [
    "class Employee:\n",
    "    def assign(self,x,y):\n",
    "        z=x+y\n",
    "        print(\"z value is:\",z)\n",
    "    def show(self):\n",
    "        p=50\n",
    "        print(\"p value is:\",p)\n",
    "e=Employee()\n",
    "e.assign(5,9)\n",
    "e.show()"
   ]
  },
  {
   "cell_type": "code",
   "execution_count": null,
   "id": "781096e3",
   "metadata": {},
   "outputs": [],
   "source": [
    "print(\"\\twelcome to the MY HOTEL \")\n",
    "print(\"1.enter the idly\")\n",
    "print(\"2.enter the puri\")\n",
    "print(\"3.enter dosa\")\n",
    "print(\"4.enter vada\")\n",
    "print(\"5.enter your choice\")\n",
    "ch=int(input(\"enter your choice:\"))\n",
    "q=int(input(\"Enter the Quantity:\"))\n",
    "if ch==1:\n",
    "    amnt=40\n",
    "    pass\n",
    "elif ch==2:\n",
    "    amnt=50\n",
    "    pass\n",
    "elif ch==3:\n",
    "    amnt=60\n",
    "    pass\n",
    "elif ch==4:\n",
    "    amnt=80\n",
    "    pass\n",
    "else:\n",
    "    print(\"sorry! your item is not available ....\")\n",
    "\n",
    "bill=q*amnt\n",
    "print(\"your bill amount is:\",bill)"
   ]
  },
  {
   "cell_type": "code",
   "execution_count": null,
   "id": "62dd55c9",
   "metadata": {},
   "outputs": [],
   "source": [
    "#Zomoto order\n",
    "order=[]\n",
    "ch='y'\n",
    "while ch=='y':\n",
    "    print(\"\\t\\t\\t Welcome To Maa Hotel\")\n",
    "    print(\"\\t1.IDLY\")\n",
    "    print(\"\\t2.DOSA\")\n",
    "    print(\"\\t3.PURI\")\n",
    "    print(\"\\t4.VADA\")\n",
    "    ch1=int(input(\"Enter Your Choice :\"))\n",
    "    if ch1>=1 and ch1<=4:\n",
    "        if ch1==1:\n",
    "            order.append(\"IDLY\")\n",
    "        elif ch1==2:\n",
    "            order.append(\"DOSA\")\n",
    "        elif ch1==3:\n",
    "            order.append(\"PURI\")\n",
    "        else:\n",
    "            order.append(\"VADA\")\n",
    "    else:\n",
    "        print(\"Your Selection is invalid \")\n",
    "    ch=input(\"Do You Want to Continue y or N  :\")\n",
    "    print(\"Your order is :\", order)\n",
    "    r=int(input(\"Enter the Item to Remove : \"))\n",
    "    if r in order:\n",
    "        order.remove(r)\n",
    "        print(r,\"Item is Removed  From Your Order: \")\n",
    "    else:\n",
    "        print(r,\"Item is not Available in the Order :\")\n",
    "    print(\"Your Order is  :\",order)\n"
   ]
  },
  {
   "cell_type": "code",
   "execution_count": null,
   "id": "a8b4e68e",
   "metadata": {},
   "outputs": [],
   "source": [
    "print(\"\\twelcome to the MY HOTEL \")\n",
    "print(\"1.enter the idly\")\n",
    "print(\"2.enter the puri\")\n",
    "print(\"3.enter dosa\")\n",
    "print(\"4.enter vada\")\n",
    "print(\"5.enter your choice\")\n",
    "ch=int(input(\"enter your choice:\"))\n",
    "q=int(input(\"Enter the Quantity:\"))\n",
    "if ch==1:\n",
    "    amnt=40\n",
    "    pass\n",
    "elif ch==2:\n",
    "    amnt=50\n",
    "    pass\n",
    "elif ch==3:\n",
    "    amnt=60\n",
    "    pass\n",
    "elif ch==4:\n",
    "    amnt=80\n",
    "    pass\n",
    "else:\n",
    "    print(\"sorry! your item is not available ....\")\n",
    "\n",
    "bill=q*amnt\n",
    "print(\"your bill amount is:\",bill)\n"
   ]
  },
  {
   "cell_type": "code",
   "execution_count": null,
   "id": "42ce8356",
   "metadata": {},
   "outputs": [],
   "source": [
    "for r in range(1,6):\n",
    "    for c in range(1,r+1):\n",
    "        print(r-c,end=\"\\t\")\n",
    "    print()\n",
    "print(\"Thank you\")"
   ]
  }
 ],
 "metadata": {
  "kernelspec": {
   "display_name": "Python 3 (ipykernel)",
   "language": "python",
   "name": "python3"
  }
 },
 "nbformat": 4,
 "nbformat_minor": 5
}
